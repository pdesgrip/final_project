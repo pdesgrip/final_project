{
 "cells": [
  {
   "cell_type": "code",
   "execution_count": null,
   "id": "c2a702e0-b37a-4143-ac46-0e1da2829de1",
   "metadata": {},
   "outputs": [],
   "source": [
    "import pandas as pd\n",
    "import numpy as np\n",
    "import glob"
   ]
  },
  {
   "cell_type": "code",
   "execution_count": null,
   "id": "3d5bc115-6a36-45af-bf0d-f9206287e97b",
   "metadata": {},
   "outputs": [],
   "source": [
    "# define path\n",
    "\n",
    "path = '../data/green'\n",
    "all_files = glob.glob(path + \"/*.parquet\")"
   ]
  },
  {
   "cell_type": "code",
   "execution_count": null,
   "id": "18cc74c9-99ff-4883-bdb7-43f2020396d9",
   "metadata": {},
   "outputs": [],
   "source": [
    "# read the parquet files\n",
    "\n",
    "dfs = [pd.read_parquet(file) for file in all_files]"
   ]
  },
  {
   "cell_type": "code",
   "execution_count": null,
   "id": "af67e100-c373-48e9-b9b8-0f124a66c84d",
   "metadata": {},
   "outputs": [],
   "source": [
    "# sample fraction of rows\n",
    "fraction = 0.1\n",
    "\n",
    "sampled_dfs = [pd.read_parquet(file).sample(frac=fraction) for file in all_files]\n",
    "final_df = pd.concat(sampled_dfs, ignore_index=True)"
   ]
  },
  {
   "cell_type": "code",
   "execution_count": null,
   "id": "24838d52-4be2-4401-99f2-9eebc887a863",
   "metadata": {},
   "outputs": [],
   "source": [
    "final_df.head()"
   ]
  },
  {
   "cell_type": "code",
   "execution_count": null,
   "id": "1e4a4adb-7328-4021-96d9-46467233408c",
   "metadata": {},
   "outputs": [],
   "source": [
    "final_df.shape"
   ]
  },
  {
   "cell_type": "code",
   "execution_count": null,
   "id": "1e12105f-c34c-4b2a-b1ac-0440af9bae1f",
   "metadata": {},
   "outputs": [],
   "source": [
    "df=final_df"
   ]
  },
  {
   "cell_type": "code",
   "execution_count": null,
   "id": "98540cb4-3b6e-4fd3-899c-1f8d40a2b3f0",
   "metadata": {},
   "outputs": [],
   "source": [
    "sampled_df = df.sample(n=100)\n",
    "display(sampled_df)"
   ]
  },
  {
   "cell_type": "markdown",
   "id": "63b32e94-11f2-4287-949e-aafe646f3435",
   "metadata": {},
   "source": [
    "There are over 3M rows - I think this may be too taxing for models - reduce rows to 300K or 30K"
   ]
  },
  {
   "cell_type": "code",
   "execution_count": null,
   "id": "a4d7c597-0d50-4a15-bf88-0013c719f00e",
   "metadata": {},
   "outputs": [],
   "source": []
  },
  {
   "cell_type": "code",
   "execution_count": null,
   "id": "18b33b72-462a-4ef7-a140-c3e10ee1b6de",
   "metadata": {},
   "outputs": [],
   "source": []
  },
  {
   "cell_type": "code",
   "execution_count": null,
   "id": "9def2779-29fa-4384-aa15-5f8fb3fd6440",
   "metadata": {},
   "outputs": [],
   "source": []
  },
  {
   "cell_type": "code",
   "execution_count": null,
   "id": "86c436eb-3713-4dfd-b2df-cc7bd075dbd2",
   "metadata": {},
   "outputs": [],
   "source": []
  },
  {
   "cell_type": "code",
   "execution_count": null,
   "id": "1f965a4e-6e58-4815-864a-00a93a728f95",
   "metadata": {},
   "outputs": [],
   "source": []
  },
  {
   "cell_type": "code",
   "execution_count": null,
   "id": "fd920000-b167-4d06-8851-556f7c345391",
   "metadata": {},
   "outputs": [],
   "source": []
  }
 ],
 "metadata": {
  "kernelspec": {
   "display_name": "Python 3 (ipykernel)",
   "language": "python",
   "name": "python3"
  },
  "language_info": {
   "codemirror_mode": {
    "name": "ipython",
    "version": 3
   },
   "file_extension": ".py",
   "mimetype": "text/x-python",
   "name": "python",
   "nbconvert_exporter": "python",
   "pygments_lexer": "ipython3",
   "version": "3.11.4"
  }
 },
 "nbformat": 4,
 "nbformat_minor": 5
}
