{
 "cells": [
  {
   "cell_type": "code",
   "execution_count": 1,
   "id": "c2a702e0-b37a-4143-ac46-0e1da2829de1",
   "metadata": {},
   "outputs": [],
   "source": [
    "import pandas as pd\n",
    "import numpy as np\n",
    "import glob\n",
    "import sys\n",
    "sys.path.append('../')\n",
    "from cleaners.cleaners import clean_dataframe, clean_dataframe_columns, unique_values_count, n_counts_and_values"
   ]
  },
  {
   "cell_type": "code",
   "execution_count": 2,
   "id": "3d5bc115-6a36-45af-bf0d-f9206287e97b",
   "metadata": {},
   "outputs": [],
   "source": [
    "# define path\n",
    "\n",
    "path = '../data/yellow'\n",
    "all_files = glob.glob(path + \"/*.parquet\")"
   ]
  },
  {
   "cell_type": "code",
   "execution_count": 3,
   "id": "18cc74c9-99ff-4883-bdb7-43f2020396d9",
   "metadata": {},
   "outputs": [],
   "source": [
    "# read the parquet files\n",
    "\n",
    "#dfs = [pd.read_parquet(file) for file in all_files]"
   ]
  },
  {
   "cell_type": "markdown",
   "id": "696d721a-991b-4da6-92ff-8d6812bc30e2",
   "metadata": {},
   "source": [
    "There are over 4M rows on the raw concatenated DF - I think this may be too taxing for models - reduced to 40K random sample to start with"
   ]
  },
  {
   "cell_type": "code",
   "execution_count": 4,
   "id": "20815bf4-db2f-4e82-a92a-5e8232d418c0",
   "metadata": {},
   "outputs": [
    {
     "name": "stderr",
     "output_type": "stream",
     "text": [
      "C:\\Users\\desgr\\AppData\\Local\\Temp\\ipykernel_3604\\1333954172.py:9: FutureWarning: The behavior of DataFrame concatenation with empty or all-NA entries is deprecated. In a future version, this will no longer exclude empty or all-NA columns when determining the result dtypes. To retain the old behavior, exclude the relevant entries before the concat operation.\n",
      "  final_df = pd.concat(sampled_dfs, ignore_index=True)\n"
     ]
    }
   ],
   "source": [
    "# uses function to load, clean column names, and sample each file\n",
    "\n",
    "fraction = 0.0001  # sample fraction of rows\n",
    "\n",
    "# uses function to clean df columns\n",
    "sampled_dfs = [clean_dataframe_columns(pd.read_parquet(file).sample(frac=fraction)) for file in all_files]\n",
    "\n",
    "# concat all sampled names\n",
    "final_df = pd.concat(sampled_dfs, ignore_index=True)"
   ]
  },
  {
   "cell_type": "code",
   "execution_count": 5,
   "id": "24838d52-4be2-4401-99f2-9eebc887a863",
   "metadata": {},
   "outputs": [
    {
     "data": {
      "text/html": [
       "<div>\n",
       "<style scoped>\n",
       "    .dataframe tbody tr th:only-of-type {\n",
       "        vertical-align: middle;\n",
       "    }\n",
       "\n",
       "    .dataframe tbody tr th {\n",
       "        vertical-align: top;\n",
       "    }\n",
       "\n",
       "    .dataframe thead th {\n",
       "        text-align: right;\n",
       "    }\n",
       "</style>\n",
       "<table border=\"1\" class=\"dataframe\">\n",
       "  <thead>\n",
       "    <tr style=\"text-align: right;\">\n",
       "      <th></th>\n",
       "      <th>vendorid</th>\n",
       "      <th>tpep_pickup_datetime</th>\n",
       "      <th>tpep_dropoff_datetime</th>\n",
       "      <th>passenger_count</th>\n",
       "      <th>trip_distance</th>\n",
       "      <th>ratecodeid</th>\n",
       "      <th>store_and_fwd_flag</th>\n",
       "      <th>pulocationid</th>\n",
       "      <th>dolocationid</th>\n",
       "      <th>payment_type</th>\n",
       "      <th>fare_amount</th>\n",
       "      <th>extra</th>\n",
       "      <th>mta_tax</th>\n",
       "      <th>tip_amount</th>\n",
       "      <th>tolls_amount</th>\n",
       "      <th>improvement_surcharge</th>\n",
       "      <th>total_amount</th>\n",
       "      <th>congestion_surcharge</th>\n",
       "      <th>airport_fee</th>\n",
       "    </tr>\n",
       "  </thead>\n",
       "  <tbody>\n",
       "    <tr>\n",
       "      <th>0</th>\n",
       "      <td>2</td>\n",
       "      <td>2017-01-26 19:47:33</td>\n",
       "      <td>2017-01-26 20:00:12</td>\n",
       "      <td>1.0</td>\n",
       "      <td>3.21</td>\n",
       "      <td>1.0</td>\n",
       "      <td>N</td>\n",
       "      <td>68</td>\n",
       "      <td>237</td>\n",
       "      <td>1</td>\n",
       "      <td>12.0</td>\n",
       "      <td>1.0</td>\n",
       "      <td>0.5</td>\n",
       "      <td>2.76</td>\n",
       "      <td>0.00</td>\n",
       "      <td>0.3</td>\n",
       "      <td>16.56</td>\n",
       "      <td>NaN</td>\n",
       "      <td>NaN</td>\n",
       "    </tr>\n",
       "    <tr>\n",
       "      <th>1</th>\n",
       "      <td>1</td>\n",
       "      <td>2017-01-01 17:28:30</td>\n",
       "      <td>2017-01-01 17:40:32</td>\n",
       "      <td>2.0</td>\n",
       "      <td>1.20</td>\n",
       "      <td>1.0</td>\n",
       "      <td>N</td>\n",
       "      <td>161</td>\n",
       "      <td>100</td>\n",
       "      <td>2</td>\n",
       "      <td>9.5</td>\n",
       "      <td>0.0</td>\n",
       "      <td>0.5</td>\n",
       "      <td>0.00</td>\n",
       "      <td>0.00</td>\n",
       "      <td>0.3</td>\n",
       "      <td>10.30</td>\n",
       "      <td>NaN</td>\n",
       "      <td>NaN</td>\n",
       "    </tr>\n",
       "    <tr>\n",
       "      <th>2</th>\n",
       "      <td>2</td>\n",
       "      <td>2017-01-02 18:38:10</td>\n",
       "      <td>2017-01-02 19:19:10</td>\n",
       "      <td>1.0</td>\n",
       "      <td>18.37</td>\n",
       "      <td>2.0</td>\n",
       "      <td>N</td>\n",
       "      <td>132</td>\n",
       "      <td>48</td>\n",
       "      <td>1</td>\n",
       "      <td>52.0</td>\n",
       "      <td>0.0</td>\n",
       "      <td>0.5</td>\n",
       "      <td>14.58</td>\n",
       "      <td>5.54</td>\n",
       "      <td>0.3</td>\n",
       "      <td>72.92</td>\n",
       "      <td>NaN</td>\n",
       "      <td>NaN</td>\n",
       "    </tr>\n",
       "    <tr>\n",
       "      <th>3</th>\n",
       "      <td>1</td>\n",
       "      <td>2017-01-20 20:38:50</td>\n",
       "      <td>2017-01-20 20:40:16</td>\n",
       "      <td>1.0</td>\n",
       "      <td>0.40</td>\n",
       "      <td>1.0</td>\n",
       "      <td>N</td>\n",
       "      <td>68</td>\n",
       "      <td>68</td>\n",
       "      <td>2</td>\n",
       "      <td>3.5</td>\n",
       "      <td>0.5</td>\n",
       "      <td>0.5</td>\n",
       "      <td>0.00</td>\n",
       "      <td>0.00</td>\n",
       "      <td>0.3</td>\n",
       "      <td>4.80</td>\n",
       "      <td>NaN</td>\n",
       "      <td>NaN</td>\n",
       "    </tr>\n",
       "    <tr>\n",
       "      <th>4</th>\n",
       "      <td>1</td>\n",
       "      <td>2017-01-24 13:56:51</td>\n",
       "      <td>2017-01-24 14:08:26</td>\n",
       "      <td>1.0</td>\n",
       "      <td>1.10</td>\n",
       "      <td>1.0</td>\n",
       "      <td>N</td>\n",
       "      <td>161</td>\n",
       "      <td>186</td>\n",
       "      <td>1</td>\n",
       "      <td>8.5</td>\n",
       "      <td>0.0</td>\n",
       "      <td>0.5</td>\n",
       "      <td>1.85</td>\n",
       "      <td>0.00</td>\n",
       "      <td>0.3</td>\n",
       "      <td>11.15</td>\n",
       "      <td>NaN</td>\n",
       "      <td>NaN</td>\n",
       "    </tr>\n",
       "  </tbody>\n",
       "</table>\n",
       "</div>"
      ],
      "text/plain": [
       "   vendorid tpep_pickup_datetime tpep_dropoff_datetime  passenger_count  \\\n",
       "0         2  2017-01-26 19:47:33   2017-01-26 20:00:12              1.0   \n",
       "1         1  2017-01-01 17:28:30   2017-01-01 17:40:32              2.0   \n",
       "2         2  2017-01-02 18:38:10   2017-01-02 19:19:10              1.0   \n",
       "3         1  2017-01-20 20:38:50   2017-01-20 20:40:16              1.0   \n",
       "4         1  2017-01-24 13:56:51   2017-01-24 14:08:26              1.0   \n",
       "\n",
       "   trip_distance  ratecodeid store_and_fwd_flag  pulocationid  dolocationid  \\\n",
       "0           3.21         1.0                  N            68           237   \n",
       "1           1.20         1.0                  N           161           100   \n",
       "2          18.37         2.0                  N           132            48   \n",
       "3           0.40         1.0                  N            68            68   \n",
       "4           1.10         1.0                  N           161           186   \n",
       "\n",
       "   payment_type  fare_amount  extra  mta_tax  tip_amount  tolls_amount  \\\n",
       "0             1         12.0    1.0      0.5        2.76          0.00   \n",
       "1             2          9.5    0.0      0.5        0.00          0.00   \n",
       "2             1         52.0    0.0      0.5       14.58          5.54   \n",
       "3             2          3.5    0.5      0.5        0.00          0.00   \n",
       "4             1          8.5    0.0      0.5        1.85          0.00   \n",
       "\n",
       "   improvement_surcharge  total_amount  congestion_surcharge  airport_fee  \n",
       "0                    0.3         16.56                   NaN          NaN  \n",
       "1                    0.3         10.30                   NaN          NaN  \n",
       "2                    0.3         72.92                   NaN          NaN  \n",
       "3                    0.3          4.80                   NaN          NaN  \n",
       "4                    0.3         11.15                   NaN          NaN  "
      ]
     },
     "execution_count": 5,
     "metadata": {},
     "output_type": "execute_result"
    }
   ],
   "source": [
    "final_df.head()"
   ]
  },
  {
   "cell_type": "code",
   "execution_count": 6,
   "id": "1e4a4adb-7328-4021-96d9-46467233408c",
   "metadata": {
    "scrolled": true
   },
   "outputs": [
    {
     "data": {
      "text/plain": [
       "(41859, 19)"
      ]
     },
     "execution_count": 6,
     "metadata": {},
     "output_type": "execute_result"
    }
   ],
   "source": [
    "final_df.shape"
   ]
  },
  {
   "cell_type": "code",
   "execution_count": null,
   "id": "faac37eb-2319-4b1e-be93-1a02bc4e9274",
   "metadata": {},
   "outputs": [],
   "source": [
    "vendorid_counts = final_df['vendorid'].value_counts()\n",
    "\n",
    "print(vendorid_counts)"
   ]
  },
  {
   "cell_type": "code",
   "execution_count": null,
   "id": "1e12105f-c34c-4b2a-b1ac-0440af9bae1f",
   "metadata": {},
   "outputs": [],
   "source": [
    "df=final_df"
   ]
  },
  {
   "cell_type": "code",
   "execution_count": null,
   "id": "98540cb4-3b6e-4fd3-899c-1f8d40a2b3f0",
   "metadata": {},
   "outputs": [],
   "source": [
    "sampled_df = df.sample(n=100)\n",
    "display(sampled_df)"
   ]
  },
  {
   "cell_type": "markdown",
   "id": "63b32e94-11f2-4287-949e-aafe646f3435",
   "metadata": {},
   "source": []
  },
  {
   "cell_type": "code",
   "execution_count": null,
   "id": "18b33b72-462a-4ef7-a140-c3e10ee1b6de",
   "metadata": {
    "scrolled": true
   },
   "outputs": [],
   "source": [
    "print(sampled_df.dtypes)"
   ]
  },
  {
   "cell_type": "code",
   "execution_count": null,
   "id": "ec418a69-bb95-49cc-9b28-e0940d5c7dab",
   "metadata": {},
   "outputs": [],
   "source": [
    "# there are 2 airport fee columns, we need to stardardize before the concat"
   ]
  },
  {
   "cell_type": "code",
   "execution_count": null,
   "id": "9def2779-29fa-4384-aa15-5f8fb3fd6440",
   "metadata": {},
   "outputs": [],
   "source": [
    "df2=sampled_df"
   ]
  },
  {
   "cell_type": "code",
   "execution_count": null,
   "id": "86c436eb-3713-4dfd-b2df-cc7bd075dbd2",
   "metadata": {},
   "outputs": [],
   "source": [
    "# look at unique values for vendor ID\n",
    "print(df2['vendorid'].unique())\n",
    "\n"
   ]
  },
  {
   "cell_type": "code",
   "execution_count": null,
   "id": "7bf8faf5-ce3f-4db7-b5ed-bc9e7e1c529a",
   "metadata": {},
   "outputs": [],
   "source": [
    "vendorid_counts = final_df['vendorid'].value_counts()\n",
    "\n",
    "print(vendorid_counts)\n"
   ]
  },
  {
   "cell_type": "code",
   "execution_count": null,
   "id": "1f965a4e-6e58-4815-864a-00a93a728f95",
   "metadata": {},
   "outputs": [],
   "source": [
    "# there are only 2 (the other instances appear to be typos) so this column can be dropped since such general info is not of use to us\n",
    "# the improvement_surcharge is a standard add-on fall all fares so we can drop this too\n",
    "\n",
    "final_df.drop(columns=['vendorid', 'improvement_surcharge', 'store_and_fwd_flag'], inplace=True)"
   ]
  },
  {
   "cell_type": "code",
   "execution_count": null,
   "id": "fd920000-b167-4d06-8851-556f7c345391",
   "metadata": {},
   "outputs": [],
   "source": [
    "final_df.shape"
   ]
  },
  {
   "cell_type": "code",
   "execution_count": null,
   "id": "8362ad72-337c-4b90-985d-0bfdd118bbbe",
   "metadata": {},
   "outputs": [],
   "source": []
  },
  {
   "cell_type": "code",
   "execution_count": null,
   "id": "7c013d02-a9f8-4c61-97e8-dd19000a845c",
   "metadata": {},
   "outputs": [],
   "source": [
    "result = unique_values_count(final_df, 'store_and_fwd_flag')\n",
    "print(result)"
   ]
  },
  {
   "cell_type": "markdown",
   "id": "501f0350-6a9b-49bc-91c5-d051a8e4ca5a",
   "metadata": {},
   "source": [
    "As this colum relates to trip memory storage it is not of interest to us"
   ]
  },
  {
   "cell_type": "code",
   "execution_count": null,
   "id": "73fd4bc9-86bd-4b9f-b017-cc06fd49a391",
   "metadata": {},
   "outputs": [],
   "source": [
    "display(n_counts_and_values(final_df))"
   ]
  },
  {
   "cell_type": "code",
   "execution_count": null,
   "id": "cf12db14-f0d5-47c5-863f-f6f29501508f",
   "metadata": {},
   "outputs": [],
   "source": []
  }
 ],
 "metadata": {
  "kernelspec": {
   "display_name": "Python 3 (ipykernel)",
   "language": "python",
   "name": "python3"
  },
  "language_info": {
   "codemirror_mode": {
    "name": "ipython",
    "version": 3
   },
   "file_extension": ".py",
   "mimetype": "text/x-python",
   "name": "python",
   "nbconvert_exporter": "python",
   "pygments_lexer": "ipython3",
   "version": "3.11.4"
  }
 },
 "nbformat": 4,
 "nbformat_minor": 5
}
