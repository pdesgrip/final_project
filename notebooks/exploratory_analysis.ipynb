{
 "cells": [
  {
   "cell_type": "code",
   "execution_count": null,
   "id": "c2a702e0-b37a-4143-ac46-0e1da2829de1",
   "metadata": {},
   "outputs": [],
   "source": [
    "import seaborn as sns\n",
    "import pandas as pd\n",
    "import matplotlib.pyplot as plt\n"
   ]
  },
  {
   "cell_type": "code",
   "execution_count": null,
   "id": "bb53db24-78bf-47d8-9db6-64235775717f",
   "metadata": {},
   "outputs": [],
   "source": [
    "data = pd.read_csv('../data/yellow/taxi_y_cleaned.csv')"
   ]
  },
  {
   "cell_type": "code",
   "execution_count": null,
   "id": "3d5bc115-6a36-45af-bf0d-f9206287e97b",
   "metadata": {},
   "outputs": [],
   "source": [
    "\n",
    "\n",
    "# setting the aesthetic style of the plots\n",
    "sns.set_style(\"whitegrid\")\n",
    "\n",
    "# list of numerical columns to plot\n",
    "numerical_columns = ['trip_distance', 'fare_amount', 'tip_amount', 'total_amount', 'trip_duration_seconds']\n",
    "\n",
    "# plotting histograms and boxplots for each numerical column\n",
    "fig, axes = plt.subplots(len(numerical_columns), 2, figsize=(15, 5 * len(numerical_columns)))\n",
    "\n",
    "for i, col in enumerate(numerical_columns):\n",
    "    # histo\n",
    "    sns.histplot(data[col], bins=30, ax=axes[i, 0], kde=False)\n",
    "    axes[i, 0].set_title(f'Histogram of {col}', fontsize=15)\n",
    "    axes[i, 0].set_xlabel('')\n",
    "    axes[i, 0].set_ylabel('Frequency')\n",
    "    \n",
    "    # box\n",
    "    sns.boxplot(x=data[col], ax=axes[i, 1])\n",
    "    axes[i, 1].set_title(f'Boxplot of {col}', fontsize=15)\n",
    "    axes[i, 1].set_xlabel('')\n",
    "    axes[i, 1].set_ylabel('Value')\n",
    "    \n",
    "    # y-axis to logarithmic scale if needed\n",
    "    if data[col].skew() > 1:\n",
    "        axes[i, 0].set_yscale('log')\n",
    "        axes[i, 1].set_yscale('log')\n",
    "\n",
    "plt.tight_layout()\n",
    "plt.show()\n"
   ]
  },
  {
   "cell_type": "code",
   "execution_count": null,
   "id": "18cc74c9-99ff-4883-bdb7-43f2020396d9",
   "metadata": {},
   "outputs": [],
   "source": [
    "# time series for month and year\n",
    "def plot_time_series_month_year(df, column, title):\n",
    "    plt.figure(figsize=(18, 6))  \n",
    "    plt.plot_date(df['tpep_pickup_datetime'], df[column], '-', xdate=True)\n",
    "\n",
    "    # Set major locators and formatters to display only month and year\n",
    "    plt.gca().xaxis.set_major_locator(mdates.MonthLocator())\n",
    "    plt.gca().xaxis.set_major_formatter(mdates.DateFormatter('%b %Y'))\n",
    "\n",
    "    plt.title(title)\n",
    "    plt.xlabel('Date')\n",
    "    plt.ylabel(column)\n",
    "    plt.xticks(rotation=90)\n",
    "    plt.tight_layout()  # Adjust the padding between and around subplots.\n",
    "    \n",
    "    plt.grid(True, which='major', linestyle='-', linewidth='0.5', color='gray')\n",
    "\n",
    "    plt.show()\n",
    "\n",
    "# plot\n",
    "plot_time_series_month_year(data, 'trip_duration_minutes', 'Trip Duration Over Time (Month and Year)')\n"
   ]
  }
 ],
 "metadata": {
  "kernelspec": {
   "display_name": "Python 3 (ipykernel)",
   "language": "python",
   "name": "python3"
  },
  "language_info": {
   "codemirror_mode": {
    "name": "ipython",
    "version": 3
   },
   "file_extension": ".py",
   "mimetype": "text/x-python",
   "name": "python",
   "nbconvert_exporter": "python",
   "pygments_lexer": "ipython3",
   "version": "3.11.4"
  }
 },
 "nbformat": 4,
 "nbformat_minor": 5
}
