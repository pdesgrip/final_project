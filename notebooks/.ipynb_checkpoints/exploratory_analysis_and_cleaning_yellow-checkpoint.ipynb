{
 "cells": [
  {
   "cell_type": "code",
   "execution_count": 7,
   "id": "c2a702e0-b37a-4143-ac46-0e1da2829de1",
   "metadata": {},
   "outputs": [],
   "source": [
    "import pandas as pd\n",
    "import numpy as np\n",
    "import glob\n",
    "import sys\n",
    "sys.path.append('../')\n",
    "from cleaners.cleaners import clean_dataframe, clean_dataframe_columns, unique_values_count, n_counts_and_values"
   ]
  },
  {
   "cell_type": "code",
   "execution_count": 11,
   "id": "3d5bc115-6a36-45af-bf0d-f9206287e97b",
   "metadata": {},
   "outputs": [],
   "source": [
    "# define path\n",
    "\n",
    "path = '../data/yellow'\n",
    "all_files = glob.glob(path + \"/*.parquet\")"
   ]
  },
  {
   "cell_type": "code",
   "execution_count": null,
   "id": "18cc74c9-99ff-4883-bdb7-43f2020396d9",
   "metadata": {},
   "outputs": [],
   "source": [
    "# read the parquet files\n",
    "\n",
    "dfs = [pd.read_parquet(file) for file in all_files]"
   ]
  },
  {
   "cell_type": "markdown",
   "id": "696d721a-991b-4da6-92ff-8d6812bc30e2",
   "metadata": {},
   "source": [
    "There are over 4M rows on the raw concatenated DF - I think this may be too taxing for models - reduced to 40K random sample to start with"
   ]
  },
  {
   "cell_type": "code",
   "execution_count": null,
   "id": "af67e100-c373-48e9-b9b8-0f124a66c84d",
   "metadata": {},
   "outputs": [],
   "source": [
    "# sample fraction of rows\n",
    "#fraction = 0.0001\n",
    "\n",
    "#sampled_dfs = [pd.read_parquet(file).sample(frac=fraction) for file in all_files]\n",
    "#final_df = pd.concat(sampled_dfs, ignore_index=True)"
   ]
  },
  {
   "cell_type": "code",
   "execution_count": null,
   "id": "20815bf4-db2f-4e82-a92a-5e8232d418c0",
   "metadata": {},
   "outputs": [],
   "source": [
    "# uses function to load, clean column names, and sample each file\n",
    "\n",
    "fraction = 0.0001  # sample fraction of rows\n",
    "\n",
    "# uses function to clean df columns\n",
    "sampled_dfs = [clean_dataframe_columns(pd.read_parquet(file).sample(frac=fraction)) for file in all_files]\n",
    "\n",
    "# concat all sampled names\n",
    "final_df = pd.concat(sampled_dfs, ignore_index=True)"
   ]
  },
  {
   "cell_type": "code",
   "execution_count": null,
   "id": "24838d52-4be2-4401-99f2-9eebc887a863",
   "metadata": {},
   "outputs": [],
   "source": [
    "final_df.head()"
   ]
  },
  {
   "cell_type": "code",
   "execution_count": null,
   "id": "1e4a4adb-7328-4021-96d9-46467233408c",
   "metadata": {
    "scrolled": true
   },
   "outputs": [],
   "source": [
    "final_df.shape"
   ]
  },
  {
   "cell_type": "code",
   "execution_count": null,
   "id": "faac37eb-2319-4b1e-be93-1a02bc4e9274",
   "metadata": {},
   "outputs": [],
   "source": [
    "vendorid_counts = final_df['vendorid'].value_counts()\n",
    "\n",
    "print(vendorid_counts)"
   ]
  },
  {
   "cell_type": "code",
   "execution_count": null,
   "id": "1e12105f-c34c-4b2a-b1ac-0440af9bae1f",
   "metadata": {},
   "outputs": [],
   "source": [
    "df=final_df"
   ]
  },
  {
   "cell_type": "code",
   "execution_count": null,
   "id": "98540cb4-3b6e-4fd3-899c-1f8d40a2b3f0",
   "metadata": {},
   "outputs": [],
   "source": [
    "sampled_df = df.sample(n=100)\n",
    "display(sampled_df)"
   ]
  },
  {
   "cell_type": "markdown",
   "id": "63b32e94-11f2-4287-949e-aafe646f3435",
   "metadata": {},
   "source": []
  },
  {
   "cell_type": "code",
   "execution_count": null,
   "id": "18b33b72-462a-4ef7-a140-c3e10ee1b6de",
   "metadata": {
    "scrolled": true
   },
   "outputs": [],
   "source": [
    "print(sampled_df.dtypes)"
   ]
  },
  {
   "cell_type": "code",
   "execution_count": null,
   "id": "ec418a69-bb95-49cc-9b28-e0940d5c7dab",
   "metadata": {},
   "outputs": [],
   "source": [
    "# there are 2 airport fee columns, we need to stardardize before the concat"
   ]
  },
  {
   "cell_type": "code",
   "execution_count": null,
   "id": "9def2779-29fa-4384-aa15-5f8fb3fd6440",
   "metadata": {},
   "outputs": [],
   "source": [
    "df2=sampled_df"
   ]
  },
  {
   "cell_type": "code",
   "execution_count": null,
   "id": "86c436eb-3713-4dfd-b2df-cc7bd075dbd2",
   "metadata": {},
   "outputs": [],
   "source": [
    "# look at unique values for vendor ID\n",
    "print(df2['vendorid'].unique())\n",
    "\n"
   ]
  },
  {
   "cell_type": "code",
   "execution_count": null,
   "id": "7bf8faf5-ce3f-4db7-b5ed-bc9e7e1c529a",
   "metadata": {},
   "outputs": [],
   "source": [
    "vendorid_counts = final_df['vendorid'].value_counts()\n",
    "\n",
    "print(vendorid_counts)\n"
   ]
  },
  {
   "cell_type": "code",
   "execution_count": null,
   "id": "1f965a4e-6e58-4815-864a-00a93a728f95",
   "metadata": {},
   "outputs": [],
   "source": [
    "# there are only 2 (the other instances appear to be typos) so this column can be dropped since such general info is not of use to us\n",
    "# the improvement_surcharge is a standard add-on fall all fares so we can drop this too\n",
    "\n",
    "final_df.drop(columns=['vendorid', 'improvement_surcharge'], inplace=True)"
   ]
  },
  {
   "cell_type": "code",
   "execution_count": null,
   "id": "fd920000-b167-4d06-8851-556f7c345391",
   "metadata": {},
   "outputs": [],
   "source": [
    "final_df.shape"
   ]
  },
  {
   "cell_type": "code",
   "execution_count": 6,
   "id": "8362ad72-337c-4b90-985d-0bfdd118bbbe",
   "metadata": {},
   "outputs": [],
   "source": [
    "def n_counts_and_values(df):\n",
    "    # prompt user for n\n",
    "    try:\n",
    "        n = int(input(\"Enter the number of columns to analyze (n): \"))\n",
    "        # ensure n is not greater than the total number of columns\n",
    "        n = min(n, len(df.columns))\n",
    "\n",
    "        results = {}\n",
    "\n",
    "        for column in df.columns[:n]:\n",
    "            # count the unique values and their instances\n",
    "            unique_counts = df[column].value_counts(dropna=False)\n",
    "\n",
    "            # count NaN or null values\n",
    "            nan_count = df[column].isna().sum()\n",
    "\n",
    "            results[column] = {'unique_value_counts': unique_counts, 'nan_count': nan_count}\n",
    "\n",
    "        return results\n",
    "\n",
    "    except ValueError:\n",
    "        print(\"Please enter a valid number for n.\")\n",
    "        return {}\n"
   ]
  },
  {
   "cell_type": "code",
   "execution_count": null,
   "id": "7c013d02-a9f8-4c61-97e8-dd19000a845c",
   "metadata": {},
   "outputs": [],
   "source": [
    "result = unique_values_count(final_df, 'store_and_fwd_flag')\n",
    "print(result)"
   ]
  },
  {
   "cell_type": "code",
   "execution_count": null,
   "id": "2c4b27a8-c7c4-4fc8-824c-b1fa929a93e2",
   "metadata": {},
   "outputs": [],
   "source": []
  },
  {
   "cell_type": "code",
   "execution_count": null,
   "id": "73fd4bc9-86bd-4b9f-b017-cc06fd49a391",
   "metadata": {},
   "outputs": [],
   "source": [
    "n_counts_and_values(final_df)"
   ]
  },
  {
   "cell_type": "code",
   "execution_count": null,
   "id": "cf12db14-f0d5-47c5-863f-f6f29501508f",
   "metadata": {},
   "outputs": [],
   "source": []
  }
 ],
 "metadata": {
  "kernelspec": {
   "display_name": "Python 3 (ipykernel)",
   "language": "python",
   "name": "python3"
  },
  "language_info": {
   "codemirror_mode": {
    "name": "ipython",
    "version": 3
   },
   "file_extension": ".py",
   "mimetype": "text/x-python",
   "name": "python",
   "nbconvert_exporter": "python",
   "pygments_lexer": "ipython3",
   "version": "3.11.4"
  }
 },
 "nbformat": 4,
 "nbformat_minor": 5
}
