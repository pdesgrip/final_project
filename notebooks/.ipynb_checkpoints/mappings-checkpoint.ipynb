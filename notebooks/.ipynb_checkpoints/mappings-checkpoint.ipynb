{
 "cells": [
  {
   "cell_type": "code",
   "execution_count": 7,
   "id": "fbff4215-68af-4628-a341-f2195e403e12",
   "metadata": {},
   "outputs": [],
   "source": [
    "import folium\n",
    "import pandas as pd\n",
    "import json\n",
    "\n",
    "# load data\n",
    "taxi_data = pd.read_csv('../data//yellow/taxi_y_cleaned.csv')\n",
    "\n",
    "# make sure fare is right format\n",
    "taxi_data['fare_amount'] = pd.to_numeric(taxi_data['fare_amount'], errors='coerce')\n",
    "\n",
    "# gather data by pickup location and calculate the average fare\n",
    "average_fare_data = taxi_data.groupby('pulocationid')['fare_amount'].mean().reset_index()\n",
    "average_fare_data.columns = ['LocationID', 'Average_Fare']\n",
    "\n",
    "# load the GeoJSON file\n",
    "with open('../data/NYC Taxi Zones.geojson') as f:\n",
    "    nyc_taxi_zones_geojson = json.load(f)\n",
    "\n",
    "# create the choropleth map\n",
    "nyc_map = folium.Map(location=[40.7128, -74.0060], zoom_start=11)\n",
    "\n",
    "folium.Choropleth(\n",
    "    geo_data=nyc_taxi_zones_geojson,\n",
    "    name='choropleth',\n",
    "    data=average_fare_data,\n",
    "    columns=['LocationID', 'Average_Fare'],\n",
    "    key_on='feature.properties.location_id',\n",
    "    fill_color='YlOrRd',  # Choose a color scheme\n",
    "    fill_opacity=0.7,\n",
    "    line_opacity=0.2,\n",
    "    legend_name='Average Fare Amount'\n",
    ").add_to(nyc_map)\n",
    "\n",
    "# Display the map\n",
    "nyc_map.save('../data/nyc_taxi_average_fare_map.html')\n"
   ]
  },
  {
   "cell_type": "code",
   "execution_count": 9,
   "id": "127e1c22-54cf-4733-8499-731a088a43a0",
   "metadata": {},
   "outputs": [
    {
     "data": {
      "text/plain": [
       "'../data/nyc_taxi_pickup_map.html'"
      ]
     },
     "execution_count": 9,
     "metadata": {},
     "output_type": "execute_result"
    }
   ],
   "source": [
    "# Load the taxi data and taxi zone lookup data\n",
    "taxi_data = pd.read_csv('../data/yellow/taxi_y_cleaned.csv')\n",
    "taxi_zone_lookup = pd.read_csv('../data/taxi+_zone_lookup.csv')\n",
    "\n",
    "# Convert fare_amount to numeric, just in case it's not\n",
    "taxi_data['fare_amount'] = pd.to_numeric(taxi_data['fare_amount'], errors='coerce')\n",
    "\n",
    "# Ensure that the column names match for the merging process\n",
    "taxi_zone_lookup = taxi_zone_lookup.rename(columns={'LocationID': 'locationid'})\n",
    "\n",
    "# Merge for pickup location using lowercase column names\n",
    "taxi_data_merged_pickup = pd.merge(\n",
    "    taxi_data, \n",
    "    taxi_zone_lookup, \n",
    "    left_on='pulocationid', \n",
    "    right_on='locationid', \n",
    "    how='left'\n",
    ")\n",
    "\n",
    "# Aggregate the pickup data by location ID to get counts\n",
    "pickup_counts = taxi_data_merged_pickup.groupby('locationid').size().reset_index(name='Pickup_Count')\n",
    "\n",
    "# Load the GeoJSON file for the NYC Taxi Zones\n",
    "with open('../data/NYC Taxi Zones.geojson', 'r') as f:\n",
    "    nyc_taxi_zones_geojson = json.load(f)\n",
    "\n",
    "# Create a map using Folium centered around New York City\n",
    "nyc_map = folium.Map(location=[40.7128, -74.0060], zoom_start=11)\n",
    "\n",
    "# Add the GeoJSON overlay with the pickup counts\n",
    "folium.Choropleth(\n",
    "    geo_data=nyc_taxi_zones_geojson,\n",
    "    name='choropleth',\n",
    "    data=pickup_counts,\n",
    "    columns=['locationid', 'Pickup_Count'],\n",
    "    key_on='feature.properties.location_id',\n",
    "    fill_color='YlGnBu',  # Color scheme for the choropleth\n",
    "    fill_opacity=0.7,\n",
    "    line_opacity=0.2,\n",
    "    legend_name='Pickup Count'\n",
    ").add_to(nyc_map)\n",
    "\n",
    "# Save the map to an HTML file\n",
    "output_map_file = '../data/nyc_taxi_pickup_map.html'\n",
    "nyc_map.save(output_map_file)\n",
    "\n",
    "output_map_file\n",
    "\n"
   ]
  },
  {
   "cell_type": "code",
   "execution_count": null,
   "id": "74724a03-e665-4d2c-9abf-12bb6647ccc2",
   "metadata": {},
   "outputs": [],
   "source": []
  },
  {
   "cell_type": "code",
   "execution_count": null,
   "id": "f989a30f-71c3-4626-90a8-4007e8c22c3b",
   "metadata": {},
   "outputs": [],
   "source": [
    "\n"
   ]
  },
  {
   "cell_type": "code",
   "execution_count": null,
   "id": "843843ce-c108-4510-8753-032b6243ba63",
   "metadata": {},
   "outputs": [],
   "source": [
    "\n"
   ]
  },
  {
   "cell_type": "code",
   "execution_count": null,
   "id": "b3230ade-7373-460f-9765-d684049d5942",
   "metadata": {},
   "outputs": [],
   "source": []
  }
 ],
 "metadata": {
  "kernelspec": {
   "display_name": "Python 3 (ipykernel)",
   "language": "python",
   "name": "python3"
  },
  "language_info": {
   "codemirror_mode": {
    "name": "ipython",
    "version": 3
   },
   "file_extension": ".py",
   "mimetype": "text/x-python",
   "name": "python",
   "nbconvert_exporter": "python",
   "pygments_lexer": "ipython3",
   "version": "3.11.4"
  }
 },
 "nbformat": 4,
 "nbformat_minor": 5
}
