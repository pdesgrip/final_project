{
 "cells": [
  {
   "cell_type": "code",
   "execution_count": 1,
   "id": "bafc526a-4c0e-4dcf-b083-d586d2a7eb4b",
   "metadata": {},
   "outputs": [],
   "source": [
    "import pandas as pd\n",
    "from sklearn.ensemble import RandomForestRegressor\n",
    "from sklearn.model_selection import train_test_split, RandomizedSearchCV, GridSearchCV\n",
    "import joblib\n",
    "import matplotlib.pyplot as plt\n",
    "import seaborn as sns\n"
   ]
  },
  {
   "cell_type": "code",
   "execution_count": 2,
   "id": "c86c277d-855e-4a5a-83ba-f0b7ce63f7e5",
   "metadata": {},
   "outputs": [],
   "source": [
    "# read the cleaned CSV\n",
    "taxi_data = pd.read_csv('../data/yellow/taxi_y_cleaned.csv')"
   ]
  },
  {
   "cell_type": "code",
   "execution_count": 3,
   "id": "3049a98c-0798-4cb3-840d-a84c7a209679",
   "metadata": {},
   "outputs": [],
   "source": [
    "# convert pickup datetime to datetime object and extract the hour\n",
    "taxi_data['tpep_pickup_datetime'] = pd.to_datetime(taxi_data['tpep_pickup_datetime'])\n",
    "taxi_data['hour_of_day'] = taxi_data['tpep_pickup_datetime'].dt.hour\n",
    "taxi_data['day_of_week'] = taxi_data['tpep_pickup_datetime'].dt.dayofweek\n",
    "taxi_data['week_of_year'] = taxi_data['tpep_pickup_datetime'].dt.isocalendar().week\n",
    "taxi_data['is_weekend'] = taxi_data['day_of_week'].isin([5, 6]).astype(int)"
   ]
  },
  {
   "cell_type": "code",
   "execution_count": 4,
   "id": "f858e3f5-5080-44f3-aaf8-9cfe0baf12ec",
   "metadata": {},
   "outputs": [],
   "source": [
    "# aggregate data to count the number of rides per hour and day of the week\n",
    "hourly_weekly_ride_counts = taxi_data.groupby(['day_of_week', 'hour_of_day']).size().reset_index(name='ride_count')"
   ]
  },
  {
   "cell_type": "code",
   "execution_count": 5,
   "id": "2c8869d1-8c78-484d-9778-236200d6b989",
   "metadata": {},
   "outputs": [],
   "source": [
    "# prepare the features (X) and target (y)\n",
    "X = hourly_weekly_ride_counts.drop('ride_count', axis=1)\n",
    "y = hourly_weekly_ride_counts['ride_count']"
   ]
  },
  {
   "cell_type": "code",
   "execution_count": 6,
   "id": "dd228f27-b8ec-4239-8283-7ed42d7ec442",
   "metadata": {},
   "outputs": [],
   "source": [
    "# splits the data into train/test\n",
    "X_train, X_test, y_train, y_test = train_test_split(X, y, test_size=0.25, random_state=33)"
   ]
  },
  {
   "cell_type": "code",
   "execution_count": 7,
   "id": "bba804d4-f218-4a31-97a4-9474c36f8a80",
   "metadata": {},
   "outputs": [
    {
     "name": "stdout",
     "output_type": "stream",
     "text": [
      "Fitting 10 folds for each of 108 candidates, totalling 1080 fits\n"
     ]
    },
    {
     "data": {
      "text/plain": [
       "\"Best parameters: {'n_estimators': 500, 'min_samples_split': 10, 'min_samples_leaf': 1, 'max_depth': 30}\""
      ]
     },
     "metadata": {},
     "output_type": "display_data"
    },
    {
     "data": {
      "text/plain": [
       "'Test set RMSE: 47.55739591920914'"
      ]
     },
     "metadata": {},
     "output_type": "display_data"
    }
   ],
   "source": [
    "# random forest\n",
    "random_forest = RandomForestRegressor(random_state=33)\n",
    "\n",
    "# Define the parameter grid for randomized search\n",
    "param_distributions = {\n",
    "    'n_estimators': [100, 200, 500],\n",
    "    'max_depth': [10, 20, 30, None],\n",
    "    'min_samples_split': [2, 5, 10],\n",
    "    'min_samples_leaf': [1, 2, 4]\n",
    "}\n",
    "\n",
    "# start search model cross validation\n",
    "random_search = RandomizedSearchCV(estimator=random_forest, param_distributions=param_distributions, n_iter=108, cv=10, verbose=2, random_state=42, n_jobs=-1)\n",
    "\n",
    "# fir data\n",
    "random_search.fit(X_train, y_train)\n",
    "\n",
    "# display best params\n",
    "display(f\"Best parameters: {random_search.best_params_}\")\n",
    "best_rf_model = random_search.best_estimator_\n",
    "\n",
    "# Save the best model from randomized search\n",
    "joblib.dump(best_rf_model, 'r../models/random_forest_model_improved.pkl')\n",
    "\n",
    "# Evaluate the best model on the test set\n",
    "from sklearn.metrics import mean_squared_error\n",
    "\n",
    "y_pred = best_rf_model.predict(X_test)\n",
    "rmse = mean_squared_error(y_test, y_pred, squared=False)\n",
    "display(f\"Test set RMSE: {rmse}\")\n"
   ]
  },
  {
   "cell_type": "code",
   "execution_count": null,
   "id": "b7946ae1-c734-4566-87f2-4807de83f1aa",
   "metadata": {},
   "outputs": [],
   "source": []
  },
  {
   "cell_type": "code",
   "execution_count": null,
   "id": "f987eab6-ab52-42f7-a814-74488a05e404",
   "metadata": {},
   "outputs": [],
   "source": []
  },
  {
   "cell_type": "code",
   "execution_count": null,
   "id": "22f6c4c6-4f99-43ef-b707-07b376455350",
   "metadata": {},
   "outputs": [],
   "source": []
  },
  {
   "cell_type": "code",
   "execution_count": null,
   "id": "33859c90-a2e1-48ca-a9b7-84cf27cb8c96",
   "metadata": {},
   "outputs": [],
   "source": []
  },
  {
   "cell_type": "code",
   "execution_count": null,
   "id": "82799ab7-fa47-4105-8bb2-a8ab8397b9b1",
   "metadata": {},
   "outputs": [],
   "source": []
  },
  {
   "cell_type": "code",
   "execution_count": null,
   "id": "d0217aec-86f1-4083-be94-25e54360c582",
   "metadata": {},
   "outputs": [],
   "source": [
    "\n",
    "\n"
   ]
  },
  {
   "cell_type": "code",
   "execution_count": null,
   "id": "6c1da01f-0aab-4df2-b006-892bce757309",
   "metadata": {},
   "outputs": [],
   "source": [
    "\n",
    "\n"
   ]
  },
  {
   "cell_type": "code",
   "execution_count": null,
   "id": "16d3eb77-6c62-479c-889e-ba3ba393ad68",
   "metadata": {},
   "outputs": [],
   "source": []
  },
  {
   "cell_type": "markdown",
   "id": "c42804d8-2f32-499e-85fc-f3ad38a8fce4",
   "metadata": {},
   "source": [
    "we will use VIF to indentify if there is multicolinearity in the numerical columns as categorical are so numerous"
   ]
  },
  {
   "cell_type": "markdown",
   "id": "fb417f4b-29bc-49f8-97ac-0e4574dd206e",
   "metadata": {},
   "source": [
    "total_amount and fare_amount have high VIFs which indicate multicolinearity"
   ]
  },
  {
   "cell_type": "markdown",
   "id": "aa60435b-ccfa-4188-a6c4-6d77b0eb412a",
   "metadata": {},
   "source": [
    "RMSE of 1.71 is 'fair' in the context of tips here. 0.6 r2 seems reasonable showing the the model accounts for 60% of the variance in the tip amount"
   ]
  },
  {
   "cell_type": "markdown",
   "id": "00a4e363-2d0a-4675-9b0c-3eb7c11e3983",
   "metadata": {},
   "source": [
    "As we might expect there is high colinearity between fare_amount, tolls amount, and total_amount. We will drop total_amount since it is a derivation of these other columns in this case for the LR model."
   ]
  },
  {
   "cell_type": "code",
   "execution_count": null,
   "id": "37fa5037-015f-40fc-abce-49277bd45b88",
   "metadata": {},
   "outputs": [],
   "source": [
    "\n"
   ]
  },
  {
   "cell_type": "code",
   "execution_count": null,
   "id": "57bbd1b9-2d18-4862-b440-0a6a4715a7ac",
   "metadata": {},
   "outputs": [],
   "source": [
    "\n"
   ]
  },
  {
   "cell_type": "code",
   "execution_count": null,
   "id": "676d51e5-f9af-4fb6-b9f0-32442551e60a",
   "metadata": {},
   "outputs": [],
   "source": []
  }
 ],
 "metadata": {
  "kernelspec": {
   "display_name": "Python 3 (ipykernel)",
   "language": "python",
   "name": "python3"
  },
  "language_info": {
   "codemirror_mode": {
    "name": "ipython",
    "version": 3
   },
   "file_extension": ".py",
   "mimetype": "text/x-python",
   "name": "python",
   "nbconvert_exporter": "python",
   "pygments_lexer": "ipython3",
   "version": "3.11.4"
  }
 },
 "nbformat": 4,
 "nbformat_minor": 5
}
